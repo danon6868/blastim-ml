{
 "cells": [
  {
   "cell_type": "markdown",
   "id": "ae61c976-35b6-4e85-81fc-e5b71da766e8",
   "metadata": {},
   "source": [
    "В данном проекте вам необходимо создать модель для классификации птиц по фотографиям. Данные можно скачать [здесь](https://www.kaggle.com/datasets/gpiosenka/100-bird-species).\n",
    "\n",
    "* 400 классов\n",
    "* 58388 Train, 2000 Test, 2000 Validation images 224X224X3 jpg format\n",
    "* 1.6 Gb\n",
    "\n",
    "В качестве baseline модели можно попробовать использовать что-то из классического ML, а дальше попытаться применить нейронные сети. \n",
    "\n",
    "Так как проект достаточно сложный, и вам предстоит писать свой класс `Dataset` в `PyTorch`, то вот вам [помощь](https://drive.google.com/drive/folders/1CvJ5iJF5oXOeu77KACmYWeBIcsWxZgea?usp=sharing). Здесь есть пример решения похожей задачи с похожей структурой данных, можете пользоваться при желании.\n",
    "\n",
    "**В результате** у вас должен получиться ноутбук с описанием ваших шагов, с тренировкой и тестированием моделей, а также выводы.\n",
    "\n",
    "*Если Вы вдруг еще сделаете тг бота для этого, то совсем отлично, но это по желанию*."
   ]
  }
 ],
 "metadata": {
  "kernelspec": {
   "display_name": "Python 3 (ipykernel)",
   "language": "python",
   "name": "python3"
  },
  "language_info": {
   "codemirror_mode": {
    "name": "ipython",
    "version": 3
   },
   "file_extension": ".py",
   "mimetype": "text/x-python",
   "name": "python",
   "nbconvert_exporter": "python",
   "pygments_lexer": "ipython3",
   "version": "3.9.7"
  }
 },
 "nbformat": 4,
 "nbformat_minor": 5
}
