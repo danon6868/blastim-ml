{
 "cells": [
  {
   "cell_type": "markdown",
   "id": "b3038fd7-c9d5-4faf-b17b-876da0b5f4ac",
   "metadata": {},
   "source": [
    "В данном проекте вам необходимо создать модель для классификации типов клеток мозга по данным scRNAseq. Данные можно скачать [здесь](https://download.brainimagelibrary.org/cf/1c/cf1c1a431ef8d021/processed_data/). Нас интересует файл с экспрессиями генов (`counts.h5ad`) и с аннотацией клеток (`cell_labels.csv`). \n",
    "\n",
    "* 3 класса\n",
    "* 280186 клеток х 254 гена (данные нормализованы и немного предобработаны)\n",
    "* ~ 1.0 Gb\n",
    "\n",
    "Для работы с таким форматом данных вам необходимо будет воспользоваться библиотекой `scanpy` (Single Cell ANalysis PYthon). Ее нужно будет установить даже если вы работаете в Google Colab:\n",
    "\n",
    "```bash\n",
    "!pip install scanpy\n",
    "```\n",
    "\n",
    "Чтобы считать скачанные данные можно воспользоваться следующим кодом:\n",
    "\n",
    "```Python\n",
    "import scanpy as sc\n",
    "import pandas as pd\n",
    "\n",
    "\n",
    "cell_labels = pd.read_csv(\"PATH_TO_CELL_LABELS.csv\") # Метки классов (колонка `class_label`)\n",
    "adata = sc.read_h5ad(\"PATH_TO_COUNTS.h5ad\") # Экспрессии + метаданные\n",
    "\n",
    "adata.obs # Индексы клеток\n",
    "adata.var # Гены\n",
    "adata.X # Матрица экспрессий\n",
    "```\n",
    "\n",
    "Дальше вам нужно написать классификатор. Подобрать гиперпараметры, признаки и провалидировать его.\n",
    "\n",
    "**В результате** у вас должен получиться ноутбук с описанием ваших шагов, с тренировкой и тестированием моделей, а также выводы."
   ]
  }
 ],
 "metadata": {
  "kernelspec": {
   "display_name": "Python 3 (ipykernel)",
   "language": "python",
   "name": "python3"
  },
  "language_info": {
   "codemirror_mode": {
    "name": "ipython",
    "version": 3
   },
   "file_extension": ".py",
   "mimetype": "text/x-python",
   "name": "python",
   "nbconvert_exporter": "python",
   "pygments_lexer": "ipython3",
   "version": "3.9.7"
  }
 },
 "nbformat": 4,
 "nbformat_minor": 5
}
