{
 "cells": [
  {
   "cell_type": "markdown",
   "id": "48bed8f3-bd7a-4d78-995c-4ca72981162b",
   "metadata": {},
   "source": [
    "В данном проекте вам предстоит поработать с детекцией рака по cell-free RNA опухоли в крови по данным bulk-RNAseq. Исходные данные можно найти [здесь](https://drive.google.com/file/d/1gB2eHRyCHyGSSvtZq47ayoVA3GPDMNDX/view?usp=sharing).\n",
    "\n",
    "* `Annotation_cell_lines.tsv.gz`: Аннотация раковых линий\n",
    "* `Annotation_cells.tsv.gz`: Аннотация клеточных линий\n",
    "* `Expression_cell_lines.tsv.gz`: Экспрессии раковых линий \n",
    "* `Expression_cells.tsv.gz`: Экспрессии клеточных линий\n",
    "* `LUAD-expr.tsv`: bulk-RNAseq крови больного раком легкого\n",
    "* `Normal-blood-expr.tsv`: bulk-RNAseq здоровой крови\n",
    "\n",
    "Здесь мы также должны генерировать данные похожим образом, как в деконволюции, поэтому вам предлагается в начале заняться генерацией данных, а уже потом обучить модели.\n",
    "\n",
    "Вам предлагаются данные экспрессий \"чистых\" клеток (линии). Bulk данные можно представить как линейная комбинация экспрессий \"чистых\" клеток. Например, 0.5 * B_cell + 0.5 * T_cell = Bulk_dataset. В таком случае мы можем взять \"чистые\" клетки в различных пропорциях и получить размеченные искусственные bulk-RNAseq данные. В отличие от деконволюции здесь мы хотим добавлять в смеси малые количества опухоли (1е-3 - 1е-1), создавая \"больной\" образец. Таким образом у нас получается бинарная классификаця: есть опухоль / нет.\n",
    "\n",
    "Дальше можно обучить несколько моделей для предсказания наличия опухоли по данных bulk-RNAseq cfRNA крови."
   ]
  }
 ],
 "metadata": {
  "kernelspec": {
   "display_name": "Python 3 (ipykernel)",
   "language": "python",
   "name": "python3"
  },
  "language_info": {
   "codemirror_mode": {
    "name": "ipython",
    "version": 3
   },
   "file_extension": ".py",
   "mimetype": "text/x-python",
   "name": "python",
   "nbconvert_exporter": "python",
   "pygments_lexer": "ipython3",
   "version": "3.9.7"
  }
 },
 "nbformat": 4,
 "nbformat_minor": 5
}
