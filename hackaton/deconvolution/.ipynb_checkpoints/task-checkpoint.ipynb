{
 "cells": [
  {
   "cell_type": "markdown",
   "id": "160c80fb-9a41-46c3-b8b1-36bdfdc97821",
   "metadata": {},
   "source": [
    "В данном проекте вам предстоит поработать с деконволюцией bulk-RNAseq данных. Исходные данные можно найти [здесь](https://drive.google.com/file/d/1gB2eHRyCHyGSSvtZq47ayoVA3GPDMNDX/view?usp=sharing).\n",
    "\n",
    "* `Annotation_cell_lines.tsv.gz`: Аннотация раковых линий\n",
    "* `Annotation_cells.tsv.gz`: Аннотация клеточных линий\n",
    "* `Expression_cell_lines.tsv.gz`: Экспрессии раковых линий \n",
    "* `Expression_cells.tsv.gz`: Экспрессии клеточных линий\n",
    "* `LUAD-expr.tsv`: bulk-RNAseq крови больного раком легкого\n",
    "* `Normal-blood-expr.tsv`: bulk-RNAseq здоровой крови\n",
    "\n",
    "Деконволюция - это процесс при котором мы хотим достать пропорции отдельных типов клеток из bulk-RNAseq данных. Для этого мы можем обучить регрессионные модели, которые будут предсказывать пропоции каждого клеточного типа. К сожалению, у нас весьма мало тренировочных данных, поэтому вам предлагается в начале заняться генерацией данных, а уже потом обучить модели.\n",
    "\n",
    "Вам предлагаются данные экспрессий \"чистых\" клеток (линии). Bulk данные можно представить как линейная комбинация экспрессий \"чистых\" клеток. Например, `0.5 * B_cell + 0.5 * T_cell = Bulk_dataset`. В таком случае мы можем взять \"чистые\" клетки в различных пропорциях и получить размеченные искусственные bulk-RNAseq данные. `np.random....`\n",
    "\n",
    "Дальше можно обучить несколько моделей для предсказания содержания каждого клеточного типа.\n",
    "\n",
    "В результате вы должны получить программу, которая принимает на вход bulk-RNAseq данные, а на выходе выдает пропорции всех клеточных типов. Получите предсказания для `LUAD-expr.tsv` и `Normal-blood-expr.tsv`."
   ]
  }
 ],
 "metadata": {
  "kernelspec": {
   "display_name": "Python 3 (ipykernel)",
   "language": "python",
   "name": "python3"
  },
  "language_info": {
   "codemirror_mode": {
    "name": "ipython",
    "version": 3
   },
   "file_extension": ".py",
   "mimetype": "text/x-python",
   "name": "python",
   "nbconvert_exporter": "python",
   "pygments_lexer": "ipython3",
   "version": "3.9.7"
  }
 },
 "nbformat": 4,
 "nbformat_minor": 5
}
