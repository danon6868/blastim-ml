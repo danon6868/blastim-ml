{
 "cells": [
  {
   "cell_type": "code",
   "execution_count": 1,
   "id": "21c73cc4-9436-4021-9a9a-fe9ee8060473",
   "metadata": {},
   "outputs": [],
   "source": [
    "import numpy as np\n",
    "import pandas as pd\n",
    "import matplotlib.pyplot as plt\n",
    "import seaborn as sns\n",
    "import os\n",
    "\n",
    "from os.path import join\n",
    "from sklearn.neighbors import (KNeighborsRegressor,\n",
    "                               KNeighborsClassifier)\n",
    "from sklearn.metrics import (r2_score,\n",
    "                             mean_squared_error,\n",
    "                             mean_absolute_error,\n",
    "                             accuracy_score)\n",
    "from sklearn.model_selection import train_test_split\n",
    "from sklearn.preprocessing import (StandardScaler,\n",
    "                                   OneHotEncoder,\n",
    "                                   LabelEncoder)\n",
    "\n",
    "from sklearn.compose import ColumnTransformer\n",
    "from sklearn.pipeline import Pipeline\n",
    "from PIL import Image"
   ]
  },
  {
   "cell_type": "markdown",
   "id": "b31de4e8-6664-4f2e-975a-36be2edab8fe",
   "metadata": {},
   "source": [
    "Estimator:\n",
    "\n",
    "* fit\n",
    "* predict\n",
    "* predict_proba (классификаторов)\n",
    "\n",
    "Transformer:\n",
    "\n",
    "* fit\n",
    "* transform\n",
    "* fit_transform"
   ]
  },
  {
   "cell_type": "markdown",
   "id": "b3b36fec-80b8-4153-93ea-b403605744e3",
   "metadata": {},
   "source": [
    "## Regression"
   ]
  },
  {
   "cell_type": "code",
   "execution_count": null,
   "id": "64b2ba2c-a49e-4ca5-9438-3cca9aacd49c",
   "metadata": {},
   "outputs": [],
   "source": [
    "DATA_PATH = \".\"\n",
    "SEED = 111\n",
    "np.random.seed(SEED)"
   ]
  },
  {
   "cell_type": "code",
   "execution_count": null,
   "id": "2e3e540e-bea1-49e2-b9bc-512186367c7f",
   "metadata": {},
   "outputs": [],
   "source": [
    "data = pd.read_csv(join(DATA_PATH, \"WorldHappiness_Corruption_2015_2020.csv\"))\n",
    "data.head()"
   ]
  },
  {
   "cell_type": "code",
   "execution_count": null,
   "id": "4d235ac8-3297-4c8a-b509-5244e0c604ce",
   "metadata": {},
   "outputs": [],
   "source": []
  },
  {
   "cell_type": "code",
   "execution_count": null,
   "id": "616462b9-5d2f-4360-be9b-a36bbd7a3da5",
   "metadata": {},
   "outputs": [],
   "source": []
  },
  {
   "cell_type": "markdown",
   "id": "fa8729cd-5325-4377-b7dd-df37b8224d8d",
   "metadata": {},
   "source": [
    "## StandardScaler"
   ]
  },
  {
   "cell_type": "code",
   "execution_count": null,
   "id": "47356b9e-02f7-4c5d-ba95-76c358816cdb",
   "metadata": {},
   "outputs": [],
   "source": []
  },
  {
   "cell_type": "code",
   "execution_count": null,
   "id": "beb585f5-89fd-4732-b4b6-0e804ec6f70c",
   "metadata": {},
   "outputs": [],
   "source": []
  },
  {
   "cell_type": "markdown",
   "id": "2b63c7d2-ea73-4787-8a31-3186740b7988",
   "metadata": {},
   "source": [
    "## OneHotEncoder"
   ]
  },
  {
   "cell_type": "code",
   "execution_count": null,
   "id": "aa8ae5bd-cf7b-440d-9f0c-49ca818173e0",
   "metadata": {},
   "outputs": [],
   "source": []
  },
  {
   "cell_type": "code",
   "execution_count": null,
   "id": "2a4ddb03-1e7c-4c07-a87a-b4d2cab6af0e",
   "metadata": {},
   "outputs": [],
   "source": []
  },
  {
   "cell_type": "markdown",
   "id": "27e3d252-e331-4c70-91f8-a604b6c72e1f",
   "metadata": {},
   "source": [
    "## LabelEncoder"
   ]
  },
  {
   "cell_type": "code",
   "execution_count": null,
   "id": "1abf9c8b-39a8-492b-b302-e1d10d3bba8d",
   "metadata": {},
   "outputs": [],
   "source": []
  },
  {
   "cell_type": "code",
   "execution_count": null,
   "id": "395ade97-e454-4aba-8732-d99a5efbdb73",
   "metadata": {},
   "outputs": [],
   "source": []
  },
  {
   "cell_type": "markdown",
   "id": "ecf722f2-7667-48b6-a41d-9338255e1926",
   "metadata": {},
   "source": [
    "## Work with data"
   ]
  },
  {
   "cell_type": "code",
   "execution_count": null,
   "id": "ad732be5-e016-40f5-be09-537e5d3ada35",
   "metadata": {},
   "outputs": [],
   "source": []
  },
  {
   "cell_type": "code",
   "execution_count": null,
   "id": "9d9b4305-e961-486c-a582-54664ccab4fd",
   "metadata": {},
   "outputs": [],
   "source": []
  },
  {
   "cell_type": "markdown",
   "id": "1afec2d3-03a8-4fb6-84f1-d173368082dd",
   "metadata": {},
   "source": [
    "## Classification"
   ]
  },
  {
   "cell_type": "markdown",
   "id": "5cfb2153-8612-40d5-a954-540fdccf1e78",
   "metadata": {},
   "source": [
    "#### Pikachu vs not Pikachu"
   ]
  },
  {
   "cell_type": "markdown",
   "id": "d4c61d53-f76c-4c2e-b962-a4b4ed96efd8",
   "metadata": {},
   "source": [
    "[data](https://www.kaggle.com/datasets/hal0samuel/pikachu-classification-dataset)"
   ]
  },
  {
   "cell_type": "code",
   "execution_count": null,
   "id": "86eac829-5455-4507-b7ed-00641a829d8a",
   "metadata": {},
   "outputs": [],
   "source": [
    "PIKA_FOLDER = \"pikachu_dataset\""
   ]
  },
  {
   "cell_type": "code",
   "execution_count": null,
   "id": "54a45d9b-04d9-4699-ba08-bf6fce5f4ec7",
   "metadata": {},
   "outputs": [],
   "source": [
    "img = Image.open(join(PIKA_FOLDER, \"train\", \"not_pikachu\", \"not_pikachu_00038.jpg\"))\n",
    "img"
   ]
  },
  {
   "cell_type": "code",
   "execution_count": null,
   "id": "8df0129e-fe1c-42ea-8b76-eebb5a0ef7e5",
   "metadata": {},
   "outputs": [],
   "source": [
    "labels = [\"pikachu\", \"not_pikachu\"]\n",
    "modes = [\"train\", \"validation\", \"test\"]\n",
    "pika_mats = {}\n",
    "img_size = 128\n",
    "num_features = 3 * img_size * img_size\n",
    "\n",
    "for label in labels:\n",
    "    n_samples = len(os.listdir(join(PIKA_FOLDER, modes[0], label))) + \\\n",
    "                len(os.listdir(join(PIKA_FOLDER, modes[1], label))) + \\\n",
    "                len(os.listdir(join(PIKA_FOLDER, modes[2], label)))\n",
    "    \n",
    "    X = np.zeros((n_samples, num_features))\n",
    "    i = 0\n",
    "    for mode in modes:\n",
    "        for img in os.listdir(join(PIKA_FOLDER, mode, label)):\n",
    "            image = Image.open(join(PIKA_FOLDER, mode, label, img)).resize((img_size, img_size))\n",
    "            image = np.array(image).reshape(num_features) # vector\n",
    "            X[i] += image\n",
    "            i += 1\n",
    "            \n",
    "    pika_mats[label] = X"
   ]
  },
  {
   "cell_type": "code",
   "execution_count": null,
   "id": "77dc34a9-9747-463d-966b-5a118ed0db99",
   "metadata": {},
   "outputs": [],
   "source": [
    "pika_mats[\"pikachu\"].shape"
   ]
  },
  {
   "cell_type": "code",
   "execution_count": null,
   "id": "48f0d291-4da1-45b1-bf1e-85e86535145a",
   "metadata": {},
   "outputs": [],
   "source": [
    "plt.imshow(pika_mats[\"not_pikachu\"][120].astype(int).reshape((img_size, img_size, 3)))\n",
    "plt.axis(\"off\");"
   ]
  },
  {
   "cell_type": "code",
   "execution_count": null,
   "id": "6bb5ee54-2154-4336-a2b6-07f5793f4006",
   "metadata": {},
   "outputs": [],
   "source": [
    "X_merged = np.vstack([pika_mats[\"pikachu\"], pika_mats[\"not_pikachu\"]])\n",
    "y = np.array([*np.repeat(\"pikachu\", len(pika_mats[\"pikachu\"]))] + \\\n",
    "             [*np.repeat(\"not_pikachu\", len(pika_mats[\"not_pikachu\"]))])\n",
    "y_numeric = (y == \"pikachu\").astype(int)\n",
    "\n",
    "pika_X_train, pika_X_test, pika_y_train, pika_y_test = train_test_split(X_merged,\n",
    "                                                                        y_numeric,\n",
    "                                                                        test_size=0.2248,\n",
    "                                                                        random_state=SEED)"
   ]
  },
  {
   "cell_type": "code",
   "execution_count": null,
   "id": "4d7bb791-f00e-4a9e-bcb1-0c42015492bb",
   "metadata": {},
   "outputs": [],
   "source": []
  },
  {
   "cell_type": "code",
   "execution_count": null,
   "id": "d21c2958-3684-45f7-aa82-1c53cfa87278",
   "metadata": {},
   "outputs": [],
   "source": []
  },
  {
   "cell_type": "code",
   "execution_count": null,
   "id": "cc9b8c0a-0475-4d49-892f-6447562f0712",
   "metadata": {},
   "outputs": [],
   "source": []
  }
 ],
 "metadata": {
  "kernelspec": {
   "display_name": "Python 3 (ipykernel)",
   "language": "python",
   "name": "python3"
  },
  "language_info": {
   "codemirror_mode": {
    "name": "ipython",
    "version": 3
   },
   "file_extension": ".py",
   "mimetype": "text/x-python",
   "name": "python",
   "nbconvert_exporter": "python",
   "pygments_lexer": "ipython3",
   "version": "3.9.7"
  }
 },
 "nbformat": 4,
 "nbformat_minor": 5
}
