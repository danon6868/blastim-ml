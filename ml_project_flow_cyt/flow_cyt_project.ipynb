{
 "cells": [
  {
   "cell_type": "code",
   "execution_count": null,
   "id": "cd99e5a2-a34b-4719-b5f6-625d57d197d3",
   "metadata": {},
   "outputs": [],
   "source": [
    "import warnings\n",
    "import pandas as pd\n",
    "import numpy as np\n",
    "import random\n",
    "import seaborn as sns\n",
    "import matplotlib.pyplot as plt\n",
    "\n",
    "\n",
    "from os.path import join\n",
    "from IPython import display\n",
    "from sklearn.datasets import load_digits\n",
    "\n",
    "from sklearn.decomposition import PCA\n",
    "from sklearn.manifold import TSNE\n",
    "from sklearn.metrics import silhouette_score, rand_score, adjusted_rand_score,  mutual_info_score, adjusted_mutual_info_score, homogeneity_completeness_v_measure, calinski_harabasz_score, davies_bouldin_score\n",
    "from sklearn.cluster import KMeans\n",
    "import seaborn as sns\n",
    "from mpl_toolkits.mplot3d import Axes3D\n",
    "from sklearn.model_selection import train_test_split\n",
    "from sklearn.metrics import f1_score"
   ]
  },
  {
   "cell_type": "code",
   "execution_count": null,
   "id": "5d1495a6-f860-452e-a2ca-034ecdb853bf",
   "metadata": {},
   "outputs": [],
   "source": [
    "DATA_PATH = \"data/\"\n",
    "plt.rcParams[\"figure.figsize\"] = 12, 9\n",
    "sns.set_style(\"whitegrid\")\n",
    "warnings.filterwarnings(\"ignore\")\n",
    "\n",
    "SEED = 111\n",
    "random.seed(SEED)\n",
    "np.random.seed(SEED)"
   ]
  },
  {
   "cell_type": "code",
   "execution_count": null,
   "id": "8182782a-38b5-46c7-9ab2-0eb8a2bdebc6",
   "metadata": {},
   "outputs": [],
   "source": []
  },
  {
   "cell_type": "markdown",
   "id": "788a9e3e-461a-413b-84a5-4740387ff1f0",
   "metadata": {},
   "source": [
    "### Задание 1. Подбираем лучшую иерархическую кластеризацию\n",
    "\n",
    "5 баллов"
   ]
  },
  {
   "cell_type": "markdown",
   "id": "89fc5e02-7d4c-4df0-83c6-2d7f148b461d",
   "metadata": {},
   "source": [
    "Перед тем, как начинать работу с реальными данными, я предлагаю потренироваться работать с кластеризацией и поизучать различные гиперпараметры. На лекции были рассмотрены различные расстояния, которые могут служить метриками различия между объектами. Также мы разобрали несколько алгоритмов кластеризации, в том числе и иерархическую. Часто может быть непонятно, какой алгоритм и какую метрику расстояния нужно взять. Давайте упростим себе жизнь и напишем функцию `algorithm_selection`, которая будет на основании переданных ей:\n",
    "\n",
    "* метрик расстояния (можно брать все, что было на лекциях, минимум 4)\n",
    "* параметра `linkage` ('average', 'single', 'complete')\n",
    "* и метрик качества кластеризации ('Homogeneity', 'Completeness', 'V-measure', 'Silhouette')\n",
    "\n",
    "будет выводить итоговую таблицу, в которую войдут столбцы:\n",
    "* distance (метрика расстояния)\n",
    "* linkage (алгоритм иерархической кластеризации)\n",
    "* homogenity\n",
    "* completeness\n",
    "* v_measure\n",
    "* silhouette\n",
    "\n",
    "В результате по этой таблице, нужно сделать вывод о том, какой алгоритм кластеризации и с какими гиперпараметрами лучше всего сработал.\n",
    "\n",
    "Часть моментов мы не разбирали на лекции, поэтому вам нужно самим разобрать в них перед тем, как начинать делать данное задание."
   ]
  },
  {
   "cell_type": "markdown",
   "id": "dcf06c6c-61e0-457e-9964-e7c97a36f1c6",
   "metadata": {},
   "source": [
    "Загрузим наши данные:"
   ]
  },
  {
   "cell_type": "code",
   "execution_count": null,
   "id": "15a8d955-21ea-4a2f-af54-6cf06e0e2cb5",
   "metadata": {},
   "outputs": [],
   "source": [
    "data = load_digits()\n",
    "X, y = data.data, data.target"
   ]
  },
  {
   "cell_type": "code",
   "execution_count": null,
   "id": "59d0b973-87a6-469f-af73-81b83fb7e129",
   "metadata": {},
   "outputs": [],
   "source": [
    "plt.imshow(X[0].reshape(8, 8).astype(int), cmap=\"gray\")\n",
    "plt.axis(\"off\");"
   ]
  },
  {
   "cell_type": "code",
   "execution_count": null,
   "id": "3fdc0d71",
   "metadata": {},
   "outputs": [],
   "source": [
    "fig, axs = plt.subplots(nrows=2, ncols=5, sharex=True, sharey=True)\n",
    "\n",
    "for i, dig in enumerate(np.unique(y)):\n",
    "    axs.flatten()[i].imshow(X[list(np.where(y==dig))][0].reshape(8, 8).astype(int), cmap='gray')\n",
    "    axs.flatten()[i].set_title(\"Digit \" + str(dig))\n",
    "    axs.flatten()[i].axis(\"off\")"
   ]
  },
  {
   "cell_type": "markdown",
   "id": "a9d4cb2c-c3b1-4d08-a803-7a9699445b4b",
   "metadata": {},
   "source": [
    "Работать будем с изображениями рукописных цифр. Каждая картинка представлена вектором из 64 элементов (числа от 0 до 255). Чтобы ее нарисовать мы должны сделать `reshape` в картинку 8 на 8 пикселей. Вам нужно будет выбрать наилучший способ кластеризации при помощи функции `algorithm_selection`, которую вы реализуете. Для некоторых метрик кластеризации требуются метки **классов** объектов (они хранятся в переменной `y`). Укажите для каждого алгоритма число кластеров равное количеству классов в `y`."
   ]
  },
  {
   "cell_type": "code",
   "execution_count": null,
   "id": "a52f8aa3-a13e-43bd-9851-d213213c9c05",
   "metadata": {},
   "outputs": [],
   "source": [
    "def algorithm_selection(X, distances, algorithms, metrics):\n",
    "    \"\"\"\n",
    "    Для заданных алгоримов кластеризации и гиперпараметров \n",
    "    считает различные метрики кластеризации\n",
    "        :param X: наши данные (n_samples, n_features)\n",
    "        :param distances: список возможных метрик расстояния ('euclidean', 'manhattan', 'l1', 'l2', 'cosine', 'chebyshev', 'minkowski', 'canberra')\n",
    "        :param algorithm: параметр linkage ('average', 'single', 'complete')\n",
    "        :param metrics: список возможных метрик качества кластеризации ('Homogeneity', 'Completeness', 'V-measure', 'Silhouette')\n",
    "    :return compare_dataframe: таблица с метриками кластеризации\n",
    "    \"\"\"\n",
    " \n",
    "    compare_dic = {\"distance\": [], \"linkage\": [], \"homogenity\": [], \"completeness\": [], \"v_measure\": []}\n",
    "    \n",
    "    \"\"\"\n",
    "    YOUR TURN TO CODE:\n",
    "    \"\"\"\n",
    "            \n",
    "    compare_dataframe = pd.DataFrame(compare_dic)\n",
    "            \n",
    "    return compare_dataframe"
   ]
  },
  {
   "cell_type": "code",
   "execution_count": null,
   "id": "219bc80e-12ec-42ab-94a9-11d1fd9f8d1c",
   "metadata": {},
   "outputs": [],
   "source": []
  },
  {
   "cell_type": "code",
   "execution_count": null,
   "id": "9843203e-7f6e-4a38-a2da-d86e0b10d1af",
   "metadata": {},
   "outputs": [],
   "source": []
  },
  {
   "cell_type": "markdown",
   "id": "6e7af28c-0397-4cb8-9846-385b661a0529",
   "metadata": {},
   "source": [
    "### Задание 2. Аннотация клеточных типов\n",
    "\n",
    "суммарно 10 баллов"
   ]
  },
  {
   "cell_type": "markdown",
   "id": "28c49ff3-a95a-4938-9b59-60565bc0d6ec",
   "metadata": {},
   "source": [
    "В этом задании вам предстоит применять полученные знания о кластеризации для аннотации данных, полученных при помощи проточной цитометрии. Каждая строка в данных это одна клетка, столбцы **FSC-A**, **SSC-A** косвенным образом свидетельствуют о размере клеток, остальные показывают интенсивность флуоресценции различных поверхностных маркеров. Ваша задача определить для каждой клетки, к какому типу она относится."
   ]
  },
  {
   "cell_type": "markdown",
   "id": "a42d4b51-b073-4e99-a957-272f385e4425",
   "metadata": {},
   "source": [
    "#### 2.1. EDA\n",
    "\n",
    "1.5 балла\n",
    "\n",
    "Проведите EDA:\n",
    "\n",
    "1. Посмотрите на данные (можно попробовать метод `describe`)\n",
    "2. Сколько у нас клеток / признаков\n",
    "3. Постройте распределения каждого признака (есть ли очевинные выбросы?)"
   ]
  },
  {
   "cell_type": "code",
   "execution_count": null,
   "id": "453f60e1-85c6-4145-aaa0-2f957407e77d",
   "metadata": {},
   "outputs": [],
   "source": [
    "fc_data = pd.read_csv(join(DATA_PATH, \"flow_c_data.csv\"), index_col=0)"
   ]
  },
  {
   "cell_type": "markdown",
   "id": "3d3e5437-1183-425f-838f-ef03f1fb2011",
   "metadata": {},
   "source": [
    "##### YOUR TURN TO CODE:"
   ]
  },
  {
   "cell_type": "code",
   "execution_count": null,
   "id": "6711655a-c3d3-4b89-b416-bdb3d9dfd66f",
   "metadata": {},
   "outputs": [],
   "source": []
  },
  {
   "cell_type": "code",
   "execution_count": null,
   "id": "1096d6e7-4c6a-423f-bc13-724f92cce83d",
   "metadata": {},
   "outputs": [],
   "source": []
  },
  {
   "cell_type": "markdown",
   "id": "487d3cbf-7e93-44e9-879b-4b271c0e4b11",
   "metadata": {},
   "source": [
    "#### 2.2. Кластеризация\n",
    "\n",
    "4.5 балла"
   ]
  },
  {
   "cell_type": "markdown",
   "id": "0fa8f868-9e36-488b-a9d5-5b1ed3645ac5",
   "metadata": {},
   "source": [
    "При ручной аннотации клеточных типов обычно поступают следующим образом:\n",
    "\n",
    "1. При помощи методов понижения размерности рисуют наши наблюдения, чтобы примерно оценить число клеточных типов\n",
    "2. Проводят кластеризацию наблюдений (для некоторых методов нужно заранее задать число кластеров, поэтому нам как раз помогает п.1)\n",
    "3. Далее мы считаем, что клетки, которые алгоритм отнес к одному кластеру являются одним клеточным типом (если кластеров больше, чем типов клеток, то возможно, что 2 разных кластера являются одним типом)\n",
    "4. После чего по интенсивности экспрессии поверхностных маркеров мы присваиваем кластеру клеточный тип"
   ]
  },
  {
   "cell_type": "markdown",
   "id": "71982501-d096-4411-9aac-1c65b6b5f908",
   "metadata": {},
   "source": [
    "Давайте для начала напишем удобную функцию для визуализации наших многомерных данных в пространстве размерностью 2, делать мы это будем при помощи алгоритма t-SNE (при желании можно также воспользоваться UMAP, но для него необходимо устанавливать дополнительную [библиотеку](https://umap-learn.readthedocs.io/en/latest/)). "
   ]
  },
  {
   "cell_type": "markdown",
   "id": "6d100f3c-adb3-431e-a790-f0c8244377f6",
   "metadata": {},
   "source": [
    "Поиграться с красивой визуализацией можно [тут](https://distill.pub/2016/misread-tsne/)."
   ]
  },
  {
   "cell_type": "code",
   "execution_count": null,
   "id": "8bf1a5c8-62d3-4de7-b797-ce55ce77af87",
   "metadata": {},
   "outputs": [],
   "source": [
    "def plot_tsne(data, n_iter=1000, \n",
    "              perplexity=40, color=None):\n",
    "    \"\"\"\n",
    "    Функция для отрисовки результатов работы t-SNE\n",
    "        :param data: таблица объекты х признаки\n",
    "        :param n_iter: число итераций градиентного спуска,\n",
    "            может быть полезно увеличить, чтобы получить результаты получше\n",
    "        :param perplexity: число соседей\n",
    "        :param color: np.array[n_samples] с переменной,\n",
    "            которой мы хотим покрасить наши наблюдения\n",
    "        :return tsne_emb: np.array[n_samples, 2] - результаты работы t-SNE\n",
    "    \"\"\"\n",
    "    \n",
    "    # Сначала сделаем PCA, так как это хорошее начальное приближение для t-SNE\n",
    "    # позволит алгоритму быстрее сойтись\n",
    "    pca = PCA().fit(data)\n",
    "    pca_embedding = pca.transform(data)\n",
    "\n",
    "    \n",
    "    # Запустим t-SNE, он выдаст нам для каждого объекта по 2 числа, \n",
    "    # которые мы сможем нарисовать\n",
    "    tnse = TSNE(n_components=2, init=pca_embedding[:, :2], n_jobs=-1,\n",
    "                n_iter=n_iter, perplexity=perplexity, random_state=SEED)\n",
    "    tsne_embedding = tnse.fit_transform(pca_embedding)\n",
    "\n",
    "    sns.scatterplot(x=tsne_embedding[:, 0],\n",
    "                    y=tsne_embedding[:, 1],\n",
    "                    hue=color, palette=\"colorblind\")\n",
    "    plt.xlabel(\"$TSNE_1$\", fontsize=18)\n",
    "    plt.ylabel(\"$TSNE_2$\", fontsize=18)\n",
    "    \n",
    "    # Вернем также результаты t-SNE, так как, если потом захотим перестроить картинку,\n",
    "    # в таком случае нам не придется ждать заново, просто нарисуем новую с готовыми данными\n",
    "    \n",
    "    return tsne_embedding"
   ]
  },
  {
   "cell_type": "code",
   "execution_count": null,
   "id": "027fc51f-4939-4b78-823d-42e794d9765e",
   "metadata": {},
   "outputs": [],
   "source": [
    "tsne_embedding_2D = plot_tsne(fc_data)"
   ]
  },
  {
   "cell_type": "code",
   "execution_count": null,
   "id": "db004314",
   "metadata": {},
   "outputs": [],
   "source": [
    "def plot_tsne_3D(data, n_iter=1000, \n",
    "              perplexity=40, color=None):\n",
    "    \"\"\"\n",
    "    Функция для отрисовки результатов работы t-SNE\n",
    "        :param data: таблица объекты х признаки\n",
    "        :param n_iter: число итераций градиентного спуска,\n",
    "            может быть полезно увеличить, чтобы получить результаты получше\n",
    "        :param perplexity: число соседей\n",
    "        :param color: np.array[n_samples] с переменной,\n",
    "            которой мы хотим покрасить наши наблюдения\n",
    "        :return tsne_emb: np.array[n_samples, 2] - результаты работы t-SNE\n",
    "    \"\"\"\n",
    "    # Сначала сделаем PCA, так как это хорошее начальное приближение для t-SNE\n",
    "    # позволит алгоритму быстрее сойтись\n",
    "    pca = PCA().fit(data)\n",
    "    pca_embedding = pca.transform(data)\n",
    "\n",
    "    \n",
    "    # Запустим t-SNE, он выдаст нам для каждого объекта по 2 числа, \n",
    "    # которые мы сможем нарисовать\n",
    "    tnse = TSNE(n_components=3, init=pca_embedding[:, :3], n_jobs=-1,\n",
    "                n_iter=n_iter, perplexity=perplexity, random_state=SEED)\n",
    "    tsne_embedding = tnse.fit_transform(pca_embedding)\n",
    "\n",
    "    fig = plt.figure()\n",
    "    ax = fig.add_subplot(111, projection = '3d')\n",
    "\n",
    "    ax.set_xlabel(\"$TSNE_1$\", fontsize=18)\n",
    "    ax.set_ylabel(\"$TSNE_2$\", fontsize=18)\n",
    "    ax.set_zlabel(\"$TSNE_3$\", fontsize=18)\n",
    "    \n",
    "    ax.scatter(tsne_embedding[:, 0], \n",
    "               tsne_embedding[:, 1], \n",
    "               tsne_embedding[:, 2],\n",
    "               c=color, cmap=\"Pastel1\")\n",
    "\n",
    "    plt.show()\n",
    "    \n",
    "    # Вернем также результаты t-SNE, так как, если потом захотим перестроить картинку,\n",
    "    # в таком случае нам не придется ждать заново, просто нарисуем новую с готовыми данными\n",
    "    \n",
    "    return tsne_embedding"
   ]
  },
  {
   "cell_type": "code",
   "execution_count": null,
   "id": "2cb1a50d",
   "metadata": {},
   "outputs": [],
   "source": [
    "# %matplotlib notebook - to activate interactive 3D\n",
    "tsne_embedding_3D = plot_tsne_3D(fc_data)"
   ]
  },
  {
   "cell_type": "code",
   "execution_count": null,
   "id": "694f6884-92da-40ee-8a58-0e053327a72e",
   "metadata": {},
   "outputs": [],
   "source": []
  },
  {
   "cell_type": "markdown",
   "id": "6a0d3310-80ad-456e-87ce-c06b5266a94a",
   "metadata": {},
   "source": [
    "Кластеризуйте ваши данные:\n",
    "\n",
    "1. Попробуйте методы кластеризации из тех, что мы прошли\n",
    "2. Выберите лучший на основании метрики `silhouette_score` (попробуйте также подобрать гиперпараметры)\n",
    "3. Присвойте каждому наблюдению метку класса и нарисуйте график t-SNE, покрасив точки метками кластера"
   ]
  },
  {
   "cell_type": "code",
   "execution_count": null,
   "id": "dd54eabf-1409-4d76-907c-8cb0e9f782e1",
   "metadata": {},
   "outputs": [],
   "source": []
  },
  {
   "cell_type": "markdown",
   "id": "93197b8e-00b3-4bb1-b771-bd78fb94222f",
   "metadata": {},
   "source": [
    "Например, в случае `KMeans` это можно сделать следующим образом:"
   ]
  },
  {
   "cell_type": "markdown",
   "id": "91d59a5e",
   "metadata": {},
   "source": [
    "## KMeans"
   ]
  },
  {
   "cell_type": "code",
   "execution_count": null,
   "id": "878bc52a",
   "metadata": {},
   "outputs": [],
   "source": [
    "kmeans = KMeans(n_clusters=4, random_state=SEED).fit(fc_data)\n",
    "pred_labels = kmeans.predict(fc_data)"
   ]
  },
  {
   "cell_type": "code",
   "execution_count": null,
   "id": "85e95036-5436-4f33-a174-ef011b42cc91",
   "metadata": {},
   "outputs": [],
   "source": [
    "sns.scatterplot(x=tsne_embedding_2D[:, 0],\n",
    "                y=tsne_embedding_2D[:, 1],\n",
    "                hue=pred_labels);"
   ]
  },
  {
   "cell_type": "code",
   "execution_count": null,
   "id": "617a2a3a",
   "metadata": {},
   "outputs": [],
   "source": [
    "print(f\"Silhouette Score: {silhouette_score(fc_data, pred_labels)}\")"
   ]
  },
  {
   "cell_type": "code",
   "execution_count": null,
   "id": "7eb65cbe-1613-4321-a525-b85e2aa7622c",
   "metadata": {},
   "outputs": [],
   "source": []
  },
  {
   "cell_type": "markdown",
   "id": "13d2888a-d76c-48ce-afc9-8618b03b7179",
   "metadata": {},
   "source": [
    "Теперь попробуйте другие методы кластеризации, которые мы прошли (или которые вы хотите сами)."
   ]
  },
  {
   "cell_type": "markdown",
   "id": "2843c80c-690c-4f2d-8b24-2d45dff31c91",
   "metadata": {},
   "source": [
    "Удалось ли вам получить ситуацию, где отдельные группы точек покрашены в один цвет?"
   ]
  },
  {
   "cell_type": "code",
   "execution_count": null,
   "id": "a8b7b565-c5e1-4e15-aafe-051654ec481c",
   "metadata": {},
   "outputs": [],
   "source": []
  },
  {
   "cell_type": "code",
   "execution_count": null,
   "id": "55c6d0f3-66fc-4d31-b5c5-74f257f6652e",
   "metadata": {},
   "outputs": [],
   "source": []
  },
  {
   "cell_type": "markdown",
   "id": "fe78762b-cadb-4eeb-ae2b-1a6ca7be05dc",
   "metadata": {},
   "source": [
    "#### 2.3. Аннотация клеточных типов\n",
    "\n",
    "4 балла"
   ]
  },
  {
   "cell_type": "markdown",
   "id": "1552d02d-3579-45b8-84ca-d44bee4882d1",
   "metadata": {},
   "source": [
    "Теперь когда мы подобрали хороший алгоритм кластеризации, можно аннотировать наши клетки. Для этого мы нарисуем t-SNE и покрасим точки в зависимости от интенсивности экспрессии поверхностных маркеров. В датасете присутствуют следующие типы клеток:\n",
    "\n",
    "* B_cells\n",
    "* T_cells\n",
    "* Monocytes\n",
    "* Other cells\n",
    "\n",
    "Вам нужно будет выяснить, какие клетки экспрессируют определенные маркеры и присвоить каждому кластеру один из типов клеток."
   ]
  },
  {
   "cell_type": "markdown",
   "id": "74ac9a1c-2d5a-4296-a07a-0d43fcc1aa56",
   "metadata": {},
   "source": [
    "Для начала нарисуем все это безобразие:"
   ]
  },
  {
   "cell_type": "code",
   "execution_count": null,
   "id": "828d2d2e-b74f-46c1-82f3-ee44477d0761",
   "metadata": {},
   "outputs": [],
   "source": [
    "# Результаты t-SNE уже есть в переменной tsne_res\n",
    "fig, axes = plt.subplots(3, 3, figsize=(20, 20))\n",
    "for col, ax in zip(fc_data.columns, axes.ravel()):\n",
    "    scatter = ax.scatter(tsne_embedding_2D[:, 0], tsne_embedding_2D[:, 1], \n",
    "                         c=fc_data[col], cmap=\"YlOrBr\")\n",
    "    fig.colorbar(scatter, ax=ax)\n",
    "    ax.set_title(col)\n",
    "    ax.grid(False)\n",
    "    ax.axis(\"off\")"
   ]
  },
  {
   "cell_type": "markdown",
   "id": "6342c96d-c546-45f2-ae37-e95c56a27c27",
   "metadata": {},
   "source": [
    "Вам необходимо узнать, какие маркеры характерны для каких типов клеток, и в зависимости от этого проаннотировать кластера."
   ]
  },
  {
   "cell_type": "code",
   "execution_count": null,
   "id": "4340d5ab-1459-428b-b72e-76f6f7e2b5c2",
   "metadata": {},
   "outputs": [],
   "source": []
  },
  {
   "cell_type": "markdown",
   "id": "387a5192-36d9-4806-854b-bcf6eb00c103",
   "metadata": {},
   "source": [
    "Дальше дело за вами, нужно определить клеточный тип для каждого кластера и записать их как значения в словаре:"
   ]
  },
  {
   "cell_type": "code",
   "execution_count": null,
   "id": "94452812-efc3-4fbe-8c75-a802aa5f24a4",
   "metadata": {},
   "outputs": [],
   "source": [
    "cell_type_cluster_map = {0: \"YOUR_TURN 1\", \n",
    "                         1: \"YOUR_TURN 2\", \n",
    "                         2: \"YOUR_TURN 3\", \n",
    "                         3: \"YOUR_TURN 4\"}"
   ]
  },
  {
   "cell_type": "code",
   "execution_count": null,
   "id": "e64d566b-0ff8-4d14-bb8c-07ea1a90524c",
   "metadata": {},
   "outputs": [],
   "source": [
    "labels_of_best_clustering = \"PUT YOUR LABELS HERE\""
   ]
  },
  {
   "cell_type": "code",
   "execution_count": null,
   "id": "13ea2cbd-6df2-421b-895f-2a9bccedc7af",
   "metadata": {},
   "outputs": [],
   "source": [
    "labeled_fc_data = fc_data.assign(Population=labels_of_best_clustering)\n",
    "labeled_fc_data[\"Population\"] = labeled_fc_data[\"Population\"].map(cell_type_cluster_map)"
   ]
  },
  {
   "cell_type": "markdown",
   "id": "e26897e3-8161-4816-a4fe-3717d03433cb",
   "metadata": {},
   "source": [
    "Посчитайте, как распределены типы клеток:"
   ]
  },
  {
   "cell_type": "code",
   "execution_count": null,
   "id": "2c3b11f5-41d1-42f0-960b-4cea03301a01",
   "metadata": {},
   "outputs": [],
   "source": [
    "labeled_fc_data[\"Population\"].value_counts()"
   ]
  },
  {
   "cell_type": "code",
   "execution_count": null,
   "id": "5852316b-82ad-4a72-a34f-68f254149969",
   "metadata": {},
   "outputs": [],
   "source": []
  },
  {
   "cell_type": "code",
   "execution_count": null,
   "id": "6df4688b-4489-4e1b-a3ca-f9976de0ac7d",
   "metadata": {},
   "outputs": [],
   "source": []
  },
  {
   "cell_type": "markdown",
   "id": "fc064d4f-6451-42ee-a129-640b7a4b333e",
   "metadata": {},
   "source": [
    "#### 2.4. Атоматическая аннотация\n",
    "\n",
    "5 баллов"
   ]
  },
  {
   "cell_type": "markdown",
   "id": "6d11fd03-325d-4267-b532-c2e2a6b261b6",
   "metadata": {},
   "source": [
    "Вам нужно построить классификатор клеточных типов на основе размеченных вами данных. Мы с вами прошли много моделей, поэтому попробуйте как можно больше, а также поразбирайтесь с подбором гиперпараметров.\n",
    "\n",
    "Подумайте о том, какая стратегия валидации модели здесь подойдет. Не забывайте, что когда вы подбираете гиперпараметры, то лучше это делать на кросс валидации, а также оставлять еще один набор данных в качестве итогового теста.\n",
    "\n",
    "Оцените качество полученной модели при помощи `f1_score(average=\"macro\")`. Попробуйте его улучшить, каким-то образом поработав с дисбалансом классов ([помощь](https://elitedatascience.com/imbalanced-classes))."
   ]
  },
  {
   "cell_type": "code",
   "execution_count": null,
   "id": "be94b83b-11c1-48a2-8923-fb74e95a1641",
   "metadata": {},
   "outputs": [],
   "source": []
  },
  {
   "cell_type": "code",
   "execution_count": null,
   "id": "133135d6-327f-4efc-8077-015b93a1eae9",
   "metadata": {},
   "outputs": [],
   "source": []
  },
  {
   "cell_type": "markdown",
   "id": "d5d0a9c8-9285-47b0-a419-c69d3cdc6270",
   "metadata": {},
   "source": [
    "### Задание 3. Любимое место\n",
    "\n",
    "дополнительно 0.5 балла\n",
    "\n",
    "Расскажите о вашем любимом месте, куда бы вы хотели съездить этой весной, если вы уже там бывали, то прикрепите фотографию)"
   ]
  },
  {
   "cell_type": "code",
   "execution_count": null,
   "id": "f46c528f-ec2a-429a-932a-cfd88513e467",
   "metadata": {},
   "outputs": [],
   "source": []
  },
  {
   "cell_type": "code",
   "execution_count": null,
   "id": "d86ae0b6-dca0-447a-a3d3-35386567a583",
   "metadata": {},
   "outputs": [],
   "source": []
  },
  {
   "cell_type": "markdown",
   "id": "824b9905-57ad-4206-a6dc-a606bebf0d29",
   "metadata": {},
   "source": [
    "### Therapy time\n",
    "\n",
    "Напишите здесь ваши впечатления о задании: было ли интересно, было ли слишком легко или наоборот сложно и тд. Также сюда можно написать свои идеи по улучшению заданий, а также предложить данные, на основе которых вы бы хотели построить следующие дз.\n",
    "\n",
    "**Ваши мысли:**"
   ]
  },
  {
   "cell_type": "code",
   "execution_count": null,
   "id": "384f3eeb-a9b1-43dd-9751-bdd63d4b1395",
   "metadata": {},
   "outputs": [],
   "source": []
  },
  {
   "cell_type": "code",
   "execution_count": null,
   "id": "13fedaff-f94c-413a-9d78-e5e9e0bc482a",
   "metadata": {},
   "outputs": [],
   "source": []
  }
 ],
 "metadata": {
  "kernelspec": {
   "display_name": "Python 3 (ipykernel)",
   "language": "python",
   "name": "python3"
  },
  "language_info": {
   "codemirror_mode": {
    "name": "ipython",
    "version": 3
   },
   "file_extension": ".py",
   "mimetype": "text/x-python",
   "name": "python",
   "nbconvert_exporter": "python",
   "pygments_lexer": "ipython3",
   "version": "3.9.7"
  }
 },
 "nbformat": 4,
 "nbformat_minor": 5
}
